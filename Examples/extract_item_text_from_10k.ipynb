{
 "cells": [
  {
   "cell_type": "code",
   "execution_count": 1,
   "metadata": {},
   "outputs": [
    {
     "name": "stdout",
     "output_type": "stream",
     "text": [
      "Requirement already satisfied: sec-parsers in c:\\users\\jgfri\\appdata\\local\\programs\\python\\python311\\lib\\site-packages (0.405)\n",
      "Requirement already satisfied: beautifulsoup4 in c:\\users\\jgfri\\appdata\\local\\programs\\python\\python311\\lib\\site-packages (from sec-parsers) (4.12.3)\n",
      "Requirement already satisfied: pandas in c:\\users\\jgfri\\appdata\\local\\programs\\python\\python311\\lib\\site-packages (from sec-parsers) (2.2.1)\n",
      "Requirement already satisfied: soupsieve>1.2 in c:\\users\\jgfri\\appdata\\local\\programs\\python\\python311\\lib\\site-packages (from beautifulsoup4->sec-parsers) (2.5)\n",
      "Requirement already satisfied: numpy<2,>=1.23.2 in c:\\users\\jgfri\\appdata\\local\\programs\\python\\python311\\lib\\site-packages (from pandas->sec-parsers) (1.26.2)\n",
      "Requirement already satisfied: python-dateutil>=2.8.2 in c:\\users\\jgfri\\appdata\\roaming\\python\\python311\\site-packages (from pandas->sec-parsers) (2.8.2)\n",
      "Requirement already satisfied: pytz>=2020.1 in c:\\users\\jgfri\\appdata\\local\\programs\\python\\python311\\lib\\site-packages (from pandas->sec-parsers) (2024.1)\n",
      "Requirement already satisfied: tzdata>=2022.7 in c:\\users\\jgfri\\appdata\\local\\programs\\python\\python311\\lib\\site-packages (from pandas->sec-parsers) (2024.1)\n",
      "Requirement already satisfied: six>=1.5 in c:\\users\\jgfri\\appdata\\roaming\\python\\python311\\site-packages (from python-dateutil>=2.8.2->pandas->sec-parsers) (1.16.0)\n",
      "Note: you may need to restart the kernel to use updated packages.\n"
     ]
    }
   ],
   "source": [
    "pip install sec-parsers"
   ]
  },
  {
   "cell_type": "code",
   "execution_count": 2,
   "metadata": {},
   "outputs": [],
   "source": [
    "# Example based on https://stackoverflow.com/questions/59480001/extracting-text-section-from-edgar-10-k-filings-html\n",
    "# SEC Parser\n",
    "from sec_parsers.sec_parsers import parse_10k\n",
    "from sec_parsers.helper import print_xml_structure, extract_text\n",
    "\n",
    "\n",
    "# get a 10-K filing\n",
    "import requests\n",
    "headers = {\n",
    "    'User-Agent': 'Sample Company Name AdminContact@<sample company domain>.com'\n",
    "}\n",
    "\n",
    "url = 'https://www.sec.gov/Archives/edgar/data/1591890/000149315218003887/form10-k.htm'\n",
    "sec_response = requests.get(url, headers=headers)\n",
    "html = sec_response.text\n"
   ]
  },
  {
   "cell_type": "code",
   "execution_count": 3,
   "metadata": {},
   "outputs": [
    {
     "data": {
      "text/plain": [
       "'ITEM\\n    1.\\nBUSINESS\\nOverview\\n1347\\nProperty Insurance Holdings, Inc. (“PIH”, the “Company”, “we”, or “us”) is an\\ninsurance holding company specialized in providing personal property insurance in coastal markets including those in Louisiana,\\nTexas and Florida. These markets are characterized as regions where larger, national insurers have reduced their market share\\nin favor of other, less catastrophe exposed markets. These markets are also characterized by state-administered residual insurers\\ncon'"
      ]
     },
     "execution_count": 3,
     "metadata": {},
     "output_type": "execute_result"
    }
   ],
   "source": [
    "# parse the sec html document using sec_parsers, visualize = True opens the parsed html in a browser\n",
    "tree = parse_10k(html, visualize=False)\n",
    "root = tree.getroot()\n",
    "# select item1 element\n",
    "item1 = root.find('.//item1')\n",
    "# extract text\n",
    "extract_text(item1)[0:500]\n"
   ]
  },
  {
   "cell_type": "code",
   "execution_count": 4,
   "metadata": {},
   "outputs": [
    {
     "name": "stdout",
     "output_type": "stream",
     "text": [
      "root\n",
      "  parti\n",
      "    item1\n",
      "    item1a\n",
      "    item1b\n",
      "    item2\n",
      "    item3\n",
      "    item4\n",
      "  partii\n",
      "    item5\n",
      "    item6\n",
      "    item7\n",
      "    item7a\n",
      "    item8\n",
      "    item9\n",
      "    item9a\n",
      "    item9b\n",
      "  partiii\n",
      "    item10\n",
      "    item11\n",
      "    item12\n",
      "    item13\n",
      "    item14\n",
      "  partiv\n",
      "    item15\n",
      "    item16\n",
      "    signatures\n"
     ]
    }
   ],
   "source": [
    "# view the xml structure\n",
    "print_xml_structure(tree)"
   ]
  }
 ],
 "metadata": {
  "kernelspec": {
   "display_name": "Python 3",
   "language": "python",
   "name": "python3"
  },
  "language_info": {
   "codemirror_mode": {
    "name": "ipython",
    "version": 3
   },
   "file_extension": ".py",
   "mimetype": "text/x-python",
   "name": "python",
   "nbconvert_exporter": "python",
   "pygments_lexer": "ipython3",
   "version": "3.11.5"
  }
 },
 "nbformat": 4,
 "nbformat_minor": 2
}
