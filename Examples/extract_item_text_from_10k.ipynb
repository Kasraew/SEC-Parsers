{
 "cells": [
  {
   "cell_type": "code",
   "execution_count": 3,
   "metadata": {},
   "outputs": [
    {
     "name": "stdout",
     "output_type": "stream",
     "text": [
      "Requirement already satisfied: sec-parsers in c:\\users\\jgfri\\appdata\\local\\programs\\python\\python311\\lib\\site-packages (0.402)\n",
      "Requirement already satisfied: beautifulsoup4 in c:\\users\\jgfri\\appdata\\local\\programs\\python\\python311\\lib\\site-packages (from sec-parsers) (4.12.3)\n",
      "Requirement already satisfied: pandas in c:\\users\\jgfri\\appdata\\local\\programs\\python\\python311\\lib\\site-packages (from sec-parsers) (2.2.1)\n",
      "Requirement already satisfied: soupsieve>1.2 in c:\\users\\jgfri\\appdata\\local\\programs\\python\\python311\\lib\\site-packages (from beautifulsoup4->sec-parsers) (2.5)\n",
      "Requirement already satisfied: numpy<2,>=1.23.2 in c:\\users\\jgfri\\appdata\\local\\programs\\python\\python311\\lib\\site-packages (from pandas->sec-parsers) (1.26.2)\n",
      "Requirement already satisfied: python-dateutil>=2.8.2 in c:\\users\\jgfri\\appdata\\roaming\\python\\python311\\site-packages (from pandas->sec-parsers) (2.8.2)\n",
      "Requirement already satisfied: pytz>=2020.1 in c:\\users\\jgfri\\appdata\\local\\programs\\python\\python311\\lib\\site-packages (from pandas->sec-parsers) (2024.1)\n",
      "Requirement already satisfied: tzdata>=2022.7 in c:\\users\\jgfri\\appdata\\local\\programs\\python\\python311\\lib\\site-packages (from pandas->sec-parsers) (2024.1)\n",
      "Requirement already satisfied: six>=1.5 in c:\\users\\jgfri\\appdata\\roaming\\python\\python311\\site-packages (from python-dateutil>=2.8.2->pandas->sec-parsers) (1.16.0)\n",
      "Note: you may need to restart the kernel to use updated packages.\n"
     ]
    }
   ],
   "source": [
    "pip install sec-parsers"
   ]
  },
  {
   "cell_type": "code",
   "execution_count": 6,
   "metadata": {},
   "outputs": [
    {
     "ename": "ImportError",
     "evalue": "cannot import name 'print_xml_structure' from 'sec_parsers.helper' (c:\\Users\\jgfri\\AppData\\Local\\Programs\\Python\\Python311\\Lib\\site-packages\\sec_parsers\\helper.py)",
     "output_type": "error",
     "traceback": [
      "\u001b[1;31m---------------------------------------------------------------------------\u001b[0m",
      "\u001b[1;31mImportError\u001b[0m                               Traceback (most recent call last)",
      "Cell \u001b[1;32mIn[6], line 4\u001b[0m\n\u001b[0;32m      1\u001b[0m \u001b[38;5;66;03m# Example based on https://stackoverflow.com/questions/59480001/extracting-text-section-from-edgar-10-k-filings-html\u001b[39;00m\n\u001b[0;32m      2\u001b[0m \u001b[38;5;66;03m# SEC Parser\u001b[39;00m\n\u001b[0;32m      3\u001b[0m \u001b[38;5;28;01mfrom\u001b[39;00m \u001b[38;5;21;01msec_parsers\u001b[39;00m\u001b[38;5;21;01m.\u001b[39;00m\u001b[38;5;21;01msec_parsers\u001b[39;00m \u001b[38;5;28;01mimport\u001b[39;00m parse_10k\n\u001b[1;32m----> 4\u001b[0m \u001b[38;5;28;01mfrom\u001b[39;00m \u001b[38;5;21;01msec_parsers\u001b[39;00m\u001b[38;5;21;01m.\u001b[39;00m\u001b[38;5;21;01mhelper\u001b[39;00m \u001b[38;5;28;01mimport\u001b[39;00m print_xml_structure, extract_text\n\u001b[0;32m      7\u001b[0m \u001b[38;5;66;03m# get a 10-K filing\u001b[39;00m\n\u001b[0;32m      8\u001b[0m \u001b[38;5;28;01mimport\u001b[39;00m \u001b[38;5;21;01mrequests\u001b[39;00m\n",
      "\u001b[1;31mImportError\u001b[0m: cannot import name 'print_xml_structure' from 'sec_parsers.helper' (c:\\Users\\jgfri\\AppData\\Local\\Programs\\Python\\Python311\\Lib\\site-packages\\sec_parsers\\helper.py)"
     ]
    }
   ],
   "source": [
    "# Example based on https://stackoverflow.com/questions/59480001/extracting-text-section-from-edgar-10-k-filings-html\n",
    "# SEC Parser\n",
    "from sec_parsers.sec_parsers import parse_10k\n",
    "from sec_parsers.helper import print_xml_structure, extract_text\n",
    "\n",
    "\n",
    "# get a 10-K filing\n",
    "import requests\n",
    "headers = {\n",
    "    'User-Agent': 'Sample Company Name AdminContact@<sample company domain>.com'\n",
    "}\n",
    "\n",
    "url = 'https://www.sec.gov/Archives/edgar/data/1591890/000149315218003887/form10-k.htm'\n",
    "sec_response = requests.get(url, headers=headers)\n",
    "html = sec_response.text\n"
   ]
  },
  {
   "cell_type": "code",
   "execution_count": 5,
   "metadata": {},
   "outputs": [
    {
     "ename": "NameError",
     "evalue": "name 'extract_text' is not defined",
     "output_type": "error",
     "traceback": [
      "\u001b[1;31m---------------------------------------------------------------------------\u001b[0m",
      "\u001b[1;31mNameError\u001b[0m                                 Traceback (most recent call last)",
      "Cell \u001b[1;32mIn[5], line 7\u001b[0m\n\u001b[0;32m      5\u001b[0m item1 \u001b[38;5;241m=\u001b[39m root\u001b[38;5;241m.\u001b[39mfind(\u001b[38;5;124m'\u001b[39m\u001b[38;5;124m.//item1\u001b[39m\u001b[38;5;124m'\u001b[39m)\n\u001b[0;32m      6\u001b[0m \u001b[38;5;66;03m# extract text\u001b[39;00m\n\u001b[1;32m----> 7\u001b[0m \u001b[43mextract_text\u001b[49m(item1)[\u001b[38;5;241m0\u001b[39m:\u001b[38;5;241m500\u001b[39m]\n",
      "\u001b[1;31mNameError\u001b[0m: name 'extract_text' is not defined"
     ]
    }
   ],
   "source": [
    "# parse the sec html document using sec_parsers, visualize = True opens the parsed html in a browser\n",
    "tree = parse_10k(html, visualize=False)\n",
    "root = tree.getroot()\n",
    "# select item1 element\n",
    "item1 = root.find('.//item1')\n",
    "# extract text\n",
    "extract_text(item1)[0:500]\n"
   ]
  },
  {
   "cell_type": "code",
   "execution_count": null,
   "metadata": {},
   "outputs": [],
   "source": [
    "# view the xml structure\n",
    "print_xml_structure(tree)"
   ]
  }
 ],
 "metadata": {
  "kernelspec": {
   "display_name": "Python 3",
   "language": "python",
   "name": "python3"
  },
  "language_info": {
   "codemirror_mode": {
    "name": "ipython",
    "version": 3
   },
   "file_extension": ".py",
   "mimetype": "text/x-python",
   "name": "python",
   "nbconvert_exporter": "python",
   "pygments_lexer": "ipython3",
   "version": "3.11.5"
  }
 },
 "nbformat": 4,
 "nbformat_minor": 2
}
