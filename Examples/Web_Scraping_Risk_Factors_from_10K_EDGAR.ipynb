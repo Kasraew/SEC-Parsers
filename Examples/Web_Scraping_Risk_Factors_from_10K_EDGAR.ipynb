{
 "cells": [
  {
   "cell_type": "code",
   "execution_count": 2,
   "metadata": {},
   "outputs": [],
   "source": [
    "# Answer for https://stackoverflow.com/questions/62430243/web-scraping-risk-factors-from-10-k-edgar"
   ]
  },
  {
   "cell_type": "code",
   "execution_count": 5,
   "metadata": {},
   "outputs": [],
   "source": [
    "from sec_parsers.sec_parsers import parse_10k\n",
    "from sec_parsers.helper import extract_text, print_xml_structure\n",
    "urls = [\n",
    "    \"https://www.sec.gov/Archives/edgar/data/1350653/000156459018005156/atec-10k_20171231.htm\", #no\n",
    "    \"https://www.sec.gov/Archives/edgar/data/1591890/000149315218003887/form10-k.htm\", # worked\n",
    "    \"https://www.sec.gov/Archives/edgar/data/750574/000119312518080325/d472492d10k.htm\", # no\n",
    "    \"https://www.sec.gov/Archives/edgar/data/773840/000093041318000292/c89913_10k.htm\", # no\n",
    "    \"https://www.sec.gov/Archives/edgar/data/12927/000001292718000007/a201712dec3110k.htm\" # worked\n",
    "]\n",
    "\n",
    "# modify for all urls\n",
    "# get a 10-K filing\n",
    "import requests\n",
    "headers = {\n",
    "    'User-Agent': 'Sample Company Name AdminContact@<sample company domain>.com'\n",
    "}\n",
    "\n",
    "html_list = []\n",
    "for url in urls:\n",
    "    sec_response = requests.get(url, headers=headers)\n",
    "    html = sec_response.text\n",
    "    html_list.append(html)\n",
    "\n"
   ]
  },
  {
   "cell_type": "code",
   "execution_count": 17,
   "metadata": {},
   "outputs": [
    {
     "name": "stdout",
     "output_type": "stream",
     "text": [
      "root\n",
      "  parti\n",
      "    item1\n",
      "    item1a\n",
      "    item1b\n",
      "    item2\n",
      "    item3\n",
      "    item4\n",
      "  partii\n",
      "    item5\n",
      "    item6\n",
      "    item7\n",
      "    item7a\n",
      "    item8\n",
      "    item9\n",
      "    item9a\n",
      "    item9b\n",
      "  partiii\n",
      "    item10\n",
      "    item11\n",
      "    item12\n",
      "    item13\n",
      "    item14\n",
      "  partiv\n",
      "    item15\n",
      "    item16\n",
      "    signatures\n"
     ]
    }
   ],
   "source": [
    "tree = parse_10k(html_list[1], visualize=False)\n",
    "print_xml_structure(tree)"
   ]
  }
 ],
 "metadata": {
  "kernelspec": {
   "display_name": "Python 3",
   "language": "python",
   "name": "python3"
  },
  "language_info": {
   "codemirror_mode": {
    "name": "ipython",
    "version": 3
   },
   "file_extension": ".py",
   "mimetype": "text/x-python",
   "name": "python",
   "nbconvert_exporter": "python",
   "pygments_lexer": "ipython3",
   "version": "3.11.5"
  }
 },
 "nbformat": 4,
 "nbformat_minor": 2
}
