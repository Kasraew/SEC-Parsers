{
 "cells": [
  {
   "cell_type": "code",
   "execution_count": 1,
   "metadata": {},
   "outputs": [
    {
     "data": {
      "text/html": [
       "<pre style=\"white-space:pre;overflow-x:auto;line-height:normal;font-family:Menlo,'DejaVu Sans Mono',consolas,'Courier New',monospace\"><span style=\"color: #7fbfbf; text-decoration-color: #7fbfbf\">[20:37:21] </span><span style=\"color: #000080; text-decoration-color: #000080\">INFO    </span> Identity of the Edgar REST client set to <span style=\"font-weight: bold\">[</span>John Smith john.smith@email.com<span style=\"font-weight: bold\">]</span>          <a href=\"file://c:\\Users\\jgfri\\AppData\\Local\\Programs\\Python\\Python311\\Lib\\site-packages\\edgar\\core.py\" target=\"_blank\"><span style=\"color: #7f7f7f; text-decoration-color: #7f7f7f\">core.py</span></a><span style=\"color: #7f7f7f; text-decoration-color: #7f7f7f\">:</span><a href=\"file://c:\\Users\\jgfri\\AppData\\Local\\Programs\\Python\\Python311\\Lib\\site-packages\\edgar\\core.py#148\" target=\"_blank\"><span style=\"color: #7f7f7f; text-decoration-color: #7f7f7f\">148</span></a>\n",
       "</pre>\n"
      ],
      "text/plain": [
       "\u001b[2;36m[20:37:21]\u001b[0m\u001b[2;36m \u001b[0m\u001b[34mINFO    \u001b[0m Identity of the Edgar REST client set to \u001b[1m[\u001b[0mJohn Smith john.smith@email.com\u001b[1m]\u001b[0m          \u001b]8;id=753106;file://c:\\Users\\jgfri\\AppData\\Local\\Programs\\Python\\Python311\\Lib\\site-packages\\edgar\\core.py\u001b\\\u001b[2mcore.py\u001b[0m\u001b]8;;\u001b\\\u001b[2m:\u001b[0m\u001b]8;id=34847;file://c:\\Users\\jgfri\\AppData\\Local\\Programs\\Python\\Python311\\Lib\\site-packages\\edgar\\core.py#148\u001b\\\u001b[2m148\u001b[0m\u001b]8;;\u001b\\\n"
      ]
     },
     "metadata": {},
     "output_type": "display_data"
    }
   ],
   "source": [
    "# SEC Parser\n",
    "from sec_parsers.sec_parsers import parse_10k\n",
    "\n",
    "#Dwight Gunning's very helpful edgar package https://github.com/dgunning/edgartools\n",
    "from edgar import *\n",
    "\n",
    "# sec requires identity to be set to pull from their server\n",
    "set_identity(\"John Smith john.smith@email.com\")\n",
    "\n",
    "# use edgar to get the latest 10-K filing for TSLA\n",
    "filings = Company(\"TSLA\").get_filings(form=\"10-K\").latest(1)\n",
    "# get html\n",
    "html = filings.html()"
   ]
  },
  {
   "cell_type": "code",
   "execution_count": 2,
   "metadata": {},
   "outputs": [],
   "source": [
    "# parse the sec html document using sec_parsers, visualize = True opens the parsed html in a browser\n",
    "xml = parse_10k(html, visualize=True)"
   ]
  },
  {
   "cell_type": "code",
   "execution_count": 6,
   "metadata": {},
   "outputs": [
    {
     "name": "stdout",
     "output_type": "stream",
     "text": [
      "ITEM 1. BUSINESS\n",
      "Overview\n",
      "We design, develop, manufacture, sell and lease high-performance fully electric vehicles and energy generation and storage systems, and offer services related to our products. We generally sell our products directly to customers, and continue to grow our customer-facing infrastructure through a global network of vehicle showrooms and service centers, Mobile Service, body shops, Supercharger stations and Destination Chargers to accelerate the widespread adoption of our p\n"
     ]
    }
   ],
   "source": [
    "import xml.etree.ElementTree as ET\n",
    "print(xml.find('parti').find('item1').text[0:500])\n"
   ]
  },
  {
   "cell_type": "code",
   "execution_count": 5,
   "metadata": {},
   "outputs": [
    {
     "name": "stdout",
     "output_type": "stream",
     "text": [
      "       part    item link_text                                             href\n",
      "0     parti   item1         4            #i605b1b87e9dd4fc1a8af0ddafef749a2_16\n",
      "1     parti  item1a        14            #i605b1b87e9dd4fc1a8af0ddafef749a2_19\n",
      "2     parti  item1b        28            #i605b1b87e9dd4fc1a8af0ddafef749a2_22\n",
      "3     parti  item1c        29  #i605b1b87e9dd4fc1a8af0ddafef749a2_549755814619\n",
      "4     parti   item2        30            #i605b1b87e9dd4fc1a8af0ddafef749a2_25\n",
      "5     parti   item3        30            #i605b1b87e9dd4fc1a8af0ddafef749a2_28\n",
      "6     parti   item4        30            #i605b1b87e9dd4fc1a8af0ddafef749a2_31\n",
      "7    partii   item5        31            #i605b1b87e9dd4fc1a8af0ddafef749a2_37\n",
      "8    partii   item6        32            #i605b1b87e9dd4fc1a8af0ddafef749a2_40\n",
      "9    partii   item7        33            #i605b1b87e9dd4fc1a8af0ddafef749a2_43\n",
      "10   partii  item7a        45            #i605b1b87e9dd4fc1a8af0ddafef749a2_64\n",
      "11   partii   item8        46            #i605b1b87e9dd4fc1a8af0ddafef749a2_67\n",
      "12   partii   item9        93           #i605b1b87e9dd4fc1a8af0ddafef749a2_148\n",
      "13   partii  item9a        93           #i605b1b87e9dd4fc1a8af0ddafef749a2_151\n",
      "14   partii  item9b        94           #i605b1b87e9dd4fc1a8af0ddafef749a2_154\n",
      "15   partii  item9c        94           #i605b1b87e9dd4fc1a8af0ddafef749a2_160\n",
      "16  partiii  item10        95           #i605b1b87e9dd4fc1a8af0ddafef749a2_166\n",
      "17  partiii  item11        95           #i605b1b87e9dd4fc1a8af0ddafef749a2_169\n",
      "18  partiii  item12        95           #i605b1b87e9dd4fc1a8af0ddafef749a2_172\n",
      "19  partiii  item13        95           #i605b1b87e9dd4fc1a8af0ddafef749a2_175\n",
      "20  partiii  item14        95           #i605b1b87e9dd4fc1a8af0ddafef749a2_178\n",
      "21   partiv  item15        96           #i605b1b87e9dd4fc1a8af0ddafef749a2_184\n",
      "22   partiv  item16       111           #i605b1b87e9dd4fc1a8af0ddafef749a2_187\n"
     ]
    }
   ],
   "source": [
    "# Look at the table of contents used to parse the sec filing\n",
    "\n",
    "from bs4 import BeautifulSoup\n",
    "from sec_parsers.helper import handle_table_of_contents\n",
    "soup = BeautifulSoup(html, 'html.parser')\n",
    "df = handle_table_of_contents(soup)\n",
    "print(df)"
   ]
  }
 ],
 "metadata": {
  "kernelspec": {
   "display_name": "Python 3",
   "language": "python",
   "name": "python3"
  },
  "language_info": {
   "codemirror_mode": {
    "name": "ipython",
    "version": 3
   },
   "file_extension": ".py",
   "mimetype": "text/x-python",
   "name": "python",
   "nbconvert_exporter": "python",
   "pygments_lexer": "ipython3",
   "version": "3.11.5"
  }
 },
 "nbformat": 4,
 "nbformat_minor": 2
}
