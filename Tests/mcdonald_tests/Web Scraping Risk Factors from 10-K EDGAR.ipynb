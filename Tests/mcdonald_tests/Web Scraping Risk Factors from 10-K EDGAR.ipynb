{
 "cells": [
  {
   "cell_type": "code",
   "execution_count": 3,
   "metadata": {},
   "outputs": [
    {
     "name": "stdout",
     "output_type": "stream",
     "text": [
      "DocumentType not found in metadata. Filing type set to 10K. If this is not correct, please set the filing type manually.\n",
      "DocumentType not found in metadata. Filing type set to 10K. If this is not correct, please set the filing type manually.\n",
      "DocumentType not found in metadata. Filing type set to 10K. If this is not correct, please set the filing type manually.\n",
      "DocumentType not found in metadata. Filing type set to 10K. If this is not correct, please set the filing type manually.\n",
      "DocumentType not found in metadata. Filing type set to 10K. If this is not correct, please set the filing type manually.\n"
     ]
    }
   ],
   "source": [
    "#https://stackoverflow.com/questions/62430243/web-scraping-risk-factors-from-10-k-edgar\n",
    "from sec_parsers import Filing, set_headers,download_sec_filing\n",
    "urls = [\n",
    "    \"https://www.sec.gov/Archives/edgar/data/1350653/000156459018005156/atec-10k_20171231.htm\",\n",
    "    \"https://www.sec.gov/Archives/edgar/data/1591890/000149315218003887/form10-k.htm\", \n",
    "    \"https://www.sec.gov/Archives/edgar/data/750574/000119312518080325/d472492d10k.htm\", \n",
    "    \"https://www.sec.gov/Archives/edgar/data/773840/000093041318000292/c89913_10k.htm\", \n",
    "    \"https://www.sec.gov/Archives/edgar/data/12927/000001292718000007/a201712dec3110k.htm\" \n",
    "]\n",
    "\n",
    "\n",
    "set_headers(\"Name\",\"email@example.com\")\n",
    "html_list = []\n",
    "for url in urls:\n",
    "    html = download_sec_filing(url)\n",
    "    html_list.append(html)\n",
    "\n",
    "filings_list =[]\n",
    "for html in html_list:\n",
    "    filing = Filing(html)\n",
    "    filing.parse()\n",
    "    filings_list.append(filing)\n"
   ]
  },
  {
   "cell_type": "code",
   "execution_count": 9,
   "metadata": {},
   "outputs": [],
   "source": [
    "for filing in filings_list:\n",
    "    item1a = filing.find_nodes_by_title('item 1a')\n",
    "    if  item1a:\n",
    "        break"
   ]
  },
  {
   "cell_type": "code",
   "execution_count": 12,
   "metadata": {},
   "outputs": [],
   "source": [
    "filing.visualize()"
   ]
  }
 ],
 "metadata": {
  "kernelspec": {
   "display_name": "Python 3",
   "language": "python",
   "name": "python3"
  },
  "language_info": {
   "codemirror_mode": {
    "name": "ipython",
    "version": 3
   },
   "file_extension": ".py",
   "mimetype": "text/x-python",
   "name": "python",
   "nbconvert_exporter": "python",
   "pygments_lexer": "ipython3",
   "version": "3.11.5"
  }
 },
 "nbformat": 4,
 "nbformat_minor": 2
}
